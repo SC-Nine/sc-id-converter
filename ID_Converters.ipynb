{
  "cells": [
    {
      "cell_type": "markdown",
      "metadata": {
        "id": "view-in-github",
        "colab_type": "text"
      },
      "source": [
        "<a href=\"https://colab.research.google.com/github/SC-Nine/sc-id-converter/blob/main/ID_Converters.ipynb\" target=\"_parent\"><img src=\"https://colab.research.google.com/assets/colab-badge.svg\" alt=\"Open In Colab\"/></a>"
      ]
    },
    {
      "cell_type": "code",
      "execution_count": 1,
      "metadata": {
        "colab": {
          "base_uri": "https://localhost:8080/"
        },
        "id": "5drrA9a3OHOT",
        "outputId": "66bd4541-2d66-430a-d3fa-8ce3cfab3ffa"
      },
      "outputs": [
        {
          "name": "stdout",
          "output_type": "stream",
          "text": [
            "Enter IDs (separated by commas or newlines, or type 'exit' to stop): audit_8a016235c22047349ca2396cd70ac4d0\n",
            "8a016235-c220-4734-9ca2-396cd70ac4d0\n",
            "Enter IDs (separated by commas or newlines, or type 'exit' to stop): audit_8a016235c22047349ca2396cd70ac4d0, audit_8a016235c22047349ca2396cd70ac4d0, audit_8a016235c22047349ca2396cd70ac4d0, audit_8a016235c22047349ca2396cd70ac4d0, audit_8a016235c22047349ca2396cd70ac4d0, audit_8a016235c22047349ca2396cd70ac4d0, audit_8a016235c22047349ca2396cd70ac4d0,\n",
            "8a016235-c220-4734-9ca2-396cd70ac4d0\n",
            "8a016235-c220-4734-9ca2-396cd70ac4d0\n",
            "8a016235-c220-4734-9ca2-396cd70ac4d0\n",
            "8a016235-c220-4734-9ca2-396cd70ac4d0\n",
            "8a016235-c220-4734-9ca2-396cd70ac4d0\n",
            "8a016235-c220-4734-9ca2-396cd70ac4d0\n",
            "8a016235-c220-4734-9ca2-396cd70ac4d0\n",
            "Enter IDs (separated by commas or newlines, or type 'exit' to stop): exit\n"
          ]
        }
      ],
      "source": [
        "#SC to UUID\n",
        "def to_uuid(s):\n",
        "    uuid = s.split('_')[1]\n",
        "    return f\"{uuid[:8]}-{uuid[8:12]}-{uuid[12:16]}-{uuid[16:20]}-{uuid[20:]}\"\n",
        "\n",
        "while True:\n",
        "    user_input = input(\"Enter IDs (separated by commas or newlines, or type 'exit' to stop): \")\n",
        "    if user_input.lower() == 'exit':\n",
        "        break\n",
        "\n",
        "    # Split the input by commas or newlines and strip any extra whitespace\n",
        "    id_list = [id.strip() for id in user_input.replace(',', '\\n').splitlines() if id.strip()]\n",
        "\n",
        "    for id in id_list:\n",
        "        try:\n",
        "            print(to_uuid(id))\n",
        "        except IndexError:\n",
        "            print(f\"Invalid ID format: '{id}'. Please enter an ID in the format 'prefix_UUID'.\")"
      ]
    },
    {
      "cell_type": "code",
      "execution_count": 2,
      "metadata": {
        "colab": {
          "base_uri": "https://localhost:8080/"
        },
        "id": "HclIojB-OWrF",
        "outputId": "b8bba3d9-1519-4f20-f2b6-b7d82483e969"
      },
      "outputs": [
        {
          "name": "stdout",
          "output_type": "stream",
          "text": [
            "Enter UUIDs (separated by commas or newlines, or type 'exit' to stop): 8a016235-c220-4734-9ca2-396cd70ac4d0\n",
            "Enter the prefix: audit\n",
            "audit_8a016235c22047349ca2396cd70ac4d0\n",
            "Enter UUIDs (separated by commas or newlines, or type 'exit' to stop): 8a016235-c220-4734-9ca2-396cd70ac4d0, 8a016235-c220-4734-9ca2-396cd70ac4d0, 8a016235-c220-4734-9ca2-396cd70ac4d0, 8a016235-c220-4734-9ca2-396cd70ac4d0, 8a016235-c220-4734-9ca2-396cd70ac4d0, 8a016235-c220-4734-9ca2-396cd70ac4d0,\n",
            "Enter the prefix: audit\n",
            "audit_8a016235c22047349ca2396cd70ac4d0\n",
            "audit_8a016235c22047349ca2396cd70ac4d0\n",
            "audit_8a016235c22047349ca2396cd70ac4d0\n",
            "audit_8a016235c22047349ca2396cd70ac4d0\n",
            "audit_8a016235c22047349ca2396cd70ac4d0\n",
            "audit_8a016235c22047349ca2396cd70ac4d0\n",
            "Enter UUIDs (separated by commas or newlines, or type 'exit' to stop): exit\n"
          ]
        }
      ],
      "source": [
        "#UUID to SC\n",
        "def to_safety_culture_id(prefix, id):\n",
        "    return f\"{prefix}_{id.replace('-', '')}\"\n",
        "\n",
        "while True:\n",
        "    user_input = input(\"Enter UUIDs (separated by commas or newlines, or type 'exit' to stop): \")\n",
        "    if user_input.lower() == 'exit':\n",
        "        break\n",
        "\n",
        "    prefix = input(\"Enter the prefix: \")\n",
        "\n",
        "    # Split the input by commas or newlines and strip any extra whitespace\n",
        "    uuid_list = [uuid.strip() for uuid in user_input.replace(',', '\\n').splitlines() if uuid.strip()]\n",
        "\n",
        "    for uuid in uuid_list:\n",
        "        print(to_safety_culture_id(prefix, uuid))"
      ]
    }
  ],
  "metadata": {
    "colab": {
      "provenance": [],
      "authorship_tag": "ABX9TyPZcvFACVHJ0K5F2ZNSKDwW",
      "include_colab_link": true
    },
    "kernelspec": {
      "display_name": "Python 3",
      "name": "python3"
    },
    "language_info": {
      "name": "python"
    }
  },
  "nbformat": 4,
  "nbformat_minor": 0
}