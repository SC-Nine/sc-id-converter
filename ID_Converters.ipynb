{
  "cells": [
    {
      "cell_type": "markdown",
      "metadata": {
        "id": "view-in-github",
        "colab_type": "text"
      },
      "source": [
        "<a href=\"https://colab.research.google.com/github/SC-Nine/sc-id-converter/blob/main/ID_Converters.ipynb\" target=\"_parent\"><img src=\"https://colab.research.google.com/assets/colab-badge.svg\" alt=\"Open In Colab\"/></a>"
      ]
    },
    {
      "cell_type": "code",
      "execution_count": null,
      "metadata": {
        "colab": {
          "background_save": true
        },
        "id": "5drrA9a3OHOT"
      },
      "outputs": [],
      "source": [
        "#SC to UUID\n",
        "def to_uuid(s):\n",
        "    uuid = s.split('_')[1]\n",
        "    return f\"{uuid[:8]}-{uuid[8:12]}-{uuid[12:16]}-{uuid[16:20]}-{uuid[20:]}\"\n",
        "\n",
        "while True:\n",
        "    user_input = input(\"Enter IDs (separated by commas or newlines, or type 'exit' to stop): \")\n",
        "    if user_input.lower() == 'exit':\n",
        "        break\n",
        "\n",
        "    # Split the input by commas or newlines and strip any extra whitespace\n",
        "    id_list = [id.strip() for id in user_input.replace(',', '\\n').splitlines() if id.strip()]\n",
        "\n",
        "    for id in id_list:\n",
        "        try:\n",
        "            print(to_uuid(id))\n",
        "        except IndexError:\n",
        "            print(f\"Invalid ID format: '{id}'. Please enter an ID in the format 'prefix_UUID'.\")"
      ]
    },
    {
      "cell_type": "code",
      "execution_count": null,
      "metadata": {
        "id": "HclIojB-OWrF"
      },
      "outputs": [],
      "source": [
        "#UUID to SC\n",
        "def to_safety_culture_id(prefix, id):\n",
        "    return f\"{prefix}_{id.replace('-', '')}\"\n",
        "\n",
        "while True:\n",
        "    user_input = input(\"Enter UUIDs (separated by commas or newlines, or type 'exit' to stop): \")\n",
        "    if user_input.lower() == 'exit':\n",
        "        break\n",
        "\n",
        "    prefix = input(\"Enter the prefix: \")\n",
        "\n",
        "    # Split the input by commas or newlines and strip any extra whitespace\n",
        "    uuid_list = [uuid.strip() for uuid in user_input.replace(',', '\\n').splitlines() if uuid.strip()]\n",
        "\n",
        "    for uuid in uuid_list:\n",
        "        print(to_safety_culture_id(prefix, uuid))"
      ]
    }
  ],
  "metadata": {
    "colab": {
      "provenance": [],
      "authorship_tag": "ABX9TyPZcvFACVHJ0K5F2ZNSKDwW",
      "include_colab_link": true
    },
    "kernelspec": {
      "display_name": "Python 3",
      "name": "python3"
    },
    "language_info": {
      "name": "python"
    }
  },
  "nbformat": 4,
  "nbformat_minor": 0
}